{
 "cells": [
  {
   "cell_type": "code",
   "execution_count": 3,
   "id": "0562687b",
   "metadata": {},
   "outputs": [],
   "source": [
    "import json\n",
    "import matplotlib.pyplot as plt\n",
    "import numpy as np\n",
    "import os\n",
    "import glob\n",
    "\n",
    "from multiprocessing import Pool\n",
    "\n",
    "%matplotlib inline"
   ]
  },
  {
   "cell_type": "code",
   "execution_count": 4,
   "id": "5ded114d",
   "metadata": {},
   "outputs": [],
   "source": [
    "files = glob.glob(\"/scratch/04101/vvenu/sparsity/epi/eval/LR*/*\")"
   ]
  },
  {
   "cell_type": "code",
   "execution_count": 5,
   "id": "7f9bfce7",
   "metadata": {},
   "outputs": [
    {
     "data": {
      "text/plain": [
       "107520"
      ]
     },
     "execution_count": 5,
     "metadata": {},
     "output_type": "execute_result"
    }
   ],
   "source": [
    "len(files)"
   ]
  },
  {
   "cell_type": "code",
   "execution_count": 6,
   "id": "0450891b",
   "metadata": {},
   "outputs": [],
   "source": [
    "def read_json(file):\n",
    "    \n",
    "    index = os.path.basename(file).split(\".\")[0]\n",
    "    \n",
    "    with open(file,\"r\") as f:\n",
    "        try:\n",
    "            result = json.load(f)\n",
    "        except:\n",
    "            result = None\n",
    "    \n",
    "    return result"
   ]
  },
  {
   "cell_type": "code",
   "execution_count": 7,
   "id": "72f6ddd5",
   "metadata": {},
   "outputs": [],
   "source": [
    "def read_all(files):\n",
    "    \n",
    "    results = []\n",
    "    \n",
    "    with Pool() as pool:\n",
    "        \n",
    "        for i,result in enumerate(pool.imap_unordered(read_json,files)):\n",
    "            if i % 100000 == 0:\n",
    "                print(i)\n",
    "            results.append(result)\n",
    "        \n",
    "    return results"
   ]
  },
  {
   "cell_type": "code",
   "execution_count": 8,
   "id": "736de733",
   "metadata": {},
   "outputs": [],
   "source": [
    "tets = read_json(files[-1])"
   ]
  },
  {
   "cell_type": "code",
   "execution_count": 9,
   "id": "9d5adb72",
   "metadata": {},
   "outputs": [
    {
     "data": {
      "text/plain": [
       "{'raw_file': '/scratch/04101/vvenu/sparsity/epi/data/crop_N_511_final_crop_ds2.zarr',\n",
       " 'labels_dataset': 'labels',\n",
       " 'labels_mask': None,\n",
       " 'pred_file': '/scratch/04101/vvenu/sparsity/epi/affs_nets/affs/A/2d_crop_N_511_final_crop_ds2.zarr',\n",
       " 'pred_dataset': 'affs/obj_050/rep_2/3d_affs_20000_from_stacked_affs_6000',\n",
       " 'roi': [[2350, 11250, 7500], [4700, 37500, 37500]],\n",
       " 'downsampling': None,\n",
       " 'denoising': None,\n",
       " 'normalize_preds': False,\n",
       " 'background_mask': False,\n",
       " 'randomize_strides': True,\n",
       " 'clean_up': True,\n",
       " 'algorithm': 'seeded',\n",
       " 'stride': [1, 10, 10],\n",
       " 'neighborhood': [[-1, 0, 0],\n",
       "  [0, -1, 0],\n",
       "  [0, 0, -1],\n",
       "  [-2, 0, 0],\n",
       "  [0, -2, 0],\n",
       "  [0, 0, -2],\n",
       "  [-4, 0, 0],\n",
       "  [0, -4, 0],\n",
       "  [0, 0, -4],\n",
       "  [-8, 0, 0],\n",
       "  [0, -8, 0],\n",
       "  [0, 0, -8],\n",
       "  [0, -3, -7],\n",
       "  [0, -6, -6],\n",
       "  [0, -7, -3],\n",
       "  [0, -7, 3],\n",
       "  [0, -6, 6],\n",
       "  [0, -3, 7]],\n",
       " 'rand_split': 0.03369343648286247,\n",
       " 'rand_merge': 0.6607286442778019,\n",
       " 'voi_split': 5.141162784218878,\n",
       " 'voi_merge': 0.7654107768156564,\n",
       " 'nvi_split': 0.4137106396510882,\n",
       " 'nvi_merge': 0.06159279434688295,\n",
       " 'nid': 0.44086473032051365,\n",
       " 'voi_sum': 5.906573561034534,\n",
       " 'nvi_sum': 0.47530343399797115}"
      ]
     },
     "execution_count": 9,
     "metadata": {},
     "output_type": "execute_result"
    }
   ],
   "source": [
    "tets"
   ]
  },
  {
   "cell_type": "code",
   "execution_count": 10,
   "id": "687aed4b",
   "metadata": {
    "scrolled": false
   },
   "outputs": [
    {
     "name": "stdout",
     "output_type": "stream",
     "text": [
      "0\n",
      "100000\n"
     ]
    }
   ],
   "source": [
    "results = read_all(files)"
   ]
  },
  {
   "cell_type": "code",
   "execution_count": 11,
   "id": "3b6dd4af",
   "metadata": {},
   "outputs": [],
   "source": [
    "#convert to plottable values\n",
    "for x in results:\n",
    "    \n",
    "#     if x is None: \n",
    "#         results.remove(x)\n",
    "#         continue\n",
    "    \n",
    "    for item in x:\n",
    "    \n",
    "        if x[item] == None: x[item] = 0\n",
    "        if x[item] == False: x[item] = 0\n",
    "        if x[item] == True: x[item] = 1\n",
    "        if type(x[item]) == list: x[item] = str(x[item])\n",
    "        \n",
    "        if type(x[item]) == dict:\n",
    "            for it in x[item]:\n",
    "      \n",
    "                if x[item][it] == None: x[item][it] = 0\n",
    "                if x[item][it] == False: x[item][it] = 0\n",
    "                if x[item][it] == True: x[item][it] = 1\n",
    "                if type(x[item][it]) == list: x[item][it] = str(x[item[it]])"
   ]
  },
  {
   "cell_type": "code",
   "execution_count": 12,
   "id": "8858843b",
   "metadata": {},
   "outputs": [],
   "source": [
    "best_results = results"
   ]
  },
  {
   "cell_type": "code",
   "execution_count": 13,
   "id": "5dd0ceb9",
   "metadata": {},
   "outputs": [
    {
     "data": {
      "image/png": "[encoded data removed]",
      "text/plain": [
       "<Figure size 432x288 with 1 Axes>"
      ]
     },
     "metadata": {
      "needs_background": "light"
     },
     "output_type": "display_data"
    }
   ],
   "source": [
    "plt.hist([x['nvi_sum'] for x in best_results], bins=50);"
   ]
  },
  {
   "cell_type": "code",
   "execution_count": 14,
   "id": "ec71498d",
   "metadata": {},
   "outputs": [],
   "source": [
    "best_results = sorted(best_results, key=lambda x: x[\"nvi_sum\"])"
   ]
  },
  {
   "cell_type": "code",
   "execution_count": 15,
   "id": "6e1c9e5d",
   "metadata": {},
   "outputs": [],
   "source": [
    "for x in best_results:\n",
    "    x['pred_iteration'] = int(x['pred_dataset'].split('_')[-1])\n",
    "    x['affs_iteration'] = int(x['pred_dataset'].split('_')[-5])\n",
    "    \n",
    "    if '0gb' in x['pred_file']:\n",
    "        x['gb'] = 0\n",
    "    if '1gb' in x['pred_file']:\n",
    "        x['gb'] = 1\n",
    "    if '2gb' in x['pred_file']:\n",
    "        x['gb'] = 2\n",
    "    \n",
    "    if 'arlo' in x['pred_file']:\n",
    "        x['gt_type'] = \"arlo\"\n",
    "    elif 'jan' in x['pred_file']:\n",
    "        x['gt_type'] = \"jan\"\n",
    "    else: x['gt_type'] = \"voronoi\"\n",
    "        \n",
    "    if \"lite\" in x[\"pred_file\"]:\n",
    "        x[\"net_size\"] = \"lite\"\n",
    "    elif \"heavy\" in x[\"pred_file\"]:\n",
    "        x[\"net_size\"] = \"heavy\"\n",
    "    else: x[\"net_size\"] = \"mid\"\n",
    "        \n",
    "    x[\"EA\"] = \"no\" if \"noEA\" in x['pred_file'] else \"yes\"\n",
    "    x[\"LR\"] = \"yes\" if \"LR\" in x['pred_file'] else \"no\"\n",
    "    x[\"MR\"] = \"yes\" if \"MR\" in x['pred_file'] else \"no\""
   ]
  },
  {
   "cell_type": "code",
   "execution_count": 19,
   "id": "64f6123a",
   "metadata": {},
   "outputs": [
    {
     "data": {
      "text/plain": [
       "2"
      ]
     },
     "execution_count": 19,
     "metadata": {},
     "output_type": "execute_result"
    }
   ],
   "source": [
    "#plot a selection\n",
    "results_to_plot = [x for x in best_results \\\n",
    "                    if x['nvi_sum'] < 0.2 \\\n",
    "#                     and \"dense\" not in x[\"pred_dataset\"] \\\n",
    "#                     and \"disk_1/\" not in x[\"pred_dataset\"] \\\n",
    "                    #and \"disk_1-obj_002\" in x[\"pred_dataset\"]\n",
    "                    #if 'sigma' not in x['sigma']\n",
    "                  ]\n",
    "len(results_to_plot)"
   ]
  },
  {
   "cell_type": "code",
   "execution_count": 20,
   "id": "208b50ec",
   "metadata": {},
   "outputs": [
    {
     "data": {
      "text/plain": [
       "{'raw_file': '/scratch/04101/vvenu/sparsity/epi/data/crop_N_511_final_crop_ds2.zarr',\n",
       " 'labels_dataset': 'labels',\n",
       " 'labels_mask': 0,\n",
       " 'pred_file': '/scratch/04101/vvenu/sparsity/epi/affs_nets/affs/A/2d_crop_N_511_final_crop_ds2.zarr',\n",
       " 'pred_dataset': 'mtlsd/obj_050/rep_1/3d_affs_14000_from_stacked_affs_10000',\n",
       " 'roi': '[[2350, 11250, 7500], [4700, 37500, 37500]]',\n",
       " 'downsampling': 0,\n",
       " 'denoising': 0,\n",
       " 'normalize_preds': 1,\n",
       " 'background_mask': 0,\n",
       " 'randomize_strides': 1,\n",
       " 'clean_up': 1,\n",
       " 'algorithm': 'kruskal',\n",
       " 'stride': '[1, 2, 2]',\n",
       " 'neighborhood': '[[-1, 0, 0], [0, -1, 0], [0, 0, -1], [-2, 0, 0], [0, -2, 0], [0, 0, -2], [-4, 0, 0], [0, -4, 0], [0, 0, -4], [-8, 0, 0], [0, -8, 0], [0, 0, -8], [0, -3, -7], [0, -6, -6], [0, -7, -3], [0, -7, 3], [0, -6, 6], [0, -3, 7]]',\n",
       " 'rand_split': 0.7451399869584969,\n",
       " 'rand_merge': 0.8668832052716067,\n",
       " 'voi_split': 0.8807299390183854,\n",
       " 'voi_merge': 0.6993414075063775,\n",
       " 'nvi_split': 0.10784641361726698,\n",
       " 'nvi_merge': 0.08563517527027091,\n",
       " 'nid': 0.11794680930463897,\n",
       " 'voi_sum': 1.5800713465247629,\n",
       " 'nvi_sum': 0.1934815888875379,\n",
       " 'pred_iteration': 10000,\n",
       " 'affs_iteration': 14000,\n",
       " 'gt_type': 'voronoi',\n",
       " 'net_size': 'mid',\n",
       " 'EA': 'yes',\n",
       " 'LR': 'no',\n",
       " 'MR': 'no'}"
      ]
     },
     "execution_count": 20,
     "metadata": {},
     "output_type": "execute_result"
    }
   ],
   "source": [
    "results_to_plot[0]"
   ]
  },
  {
   "cell_type": "code",
   "execution_count": 21,
   "id": "a47dc71c",
   "metadata": {
    "scrolled": false
   },
   "outputs": [
    {
     "ename": "KeyError",
     "evalue": "'gb'",
     "output_type": "error",
     "traceback": [
      "\u001b[0;31m---------------------------------------------------------------------------\u001b[0m",
      "\u001b[0;31mKeyError\u001b[0m                                  Traceback (most recent call last)",
      "\u001b[0;32m/tmp/ipykernel_499686/2635497367.py\u001b[0m in \u001b[0;36m<module>\u001b[0;34m\u001b[0m\n\u001b[1;32m     20\u001b[0m     ]):\n\u001b[1;32m     21\u001b[0m \u001b[0;34m\u001b[0m\u001b[0m\n\u001b[0;32m---> 22\u001b[0;31m     \u001b[0mdata\u001b[0m \u001b[0;34m=\u001b[0m \u001b[0;34m[\u001b[0m\u001b[0mx\u001b[0m\u001b[0;34m[\u001b[0m\u001b[0mplot_name\u001b[0m\u001b[0;34m]\u001b[0m \u001b[0;32mfor\u001b[0m \u001b[0mx\u001b[0m \u001b[0;32min\u001b[0m \u001b[0mresults_to_plot\u001b[0m\u001b[0;34m]\u001b[0m\u001b[0;34m\u001b[0m\u001b[0;34m\u001b[0m\u001b[0m\n\u001b[0m\u001b[1;32m     23\u001b[0m     \u001b[0mnbins\u001b[0m \u001b[0;34m=\u001b[0m \u001b[0;36m50\u001b[0m\u001b[0;34m\u001b[0m\u001b[0;34m\u001b[0m\u001b[0m\n\u001b[1;32m     24\u001b[0m \u001b[0;34m\u001b[0m\u001b[0m\n",
      "\u001b[0;32m/tmp/ipykernel_499686/2635497367.py\u001b[0m in \u001b[0;36m<listcomp>\u001b[0;34m(.0)\u001b[0m\n\u001b[1;32m     20\u001b[0m     ]):\n\u001b[1;32m     21\u001b[0m \u001b[0;34m\u001b[0m\u001b[0m\n\u001b[0;32m---> 22\u001b[0;31m     \u001b[0mdata\u001b[0m \u001b[0;34m=\u001b[0m \u001b[0;34m[\u001b[0m\u001b[0mx\u001b[0m\u001b[0;34m[\u001b[0m\u001b[0mplot_name\u001b[0m\u001b[0;34m]\u001b[0m \u001b[0;32mfor\u001b[0m \u001b[0mx\u001b[0m \u001b[0;32min\u001b[0m \u001b[0mresults_to_plot\u001b[0m\u001b[0;34m]\u001b[0m\u001b[0;34m\u001b[0m\u001b[0;34m\u001b[0m\u001b[0m\n\u001b[0m\u001b[1;32m     23\u001b[0m     \u001b[0mnbins\u001b[0m \u001b[0;34m=\u001b[0m \u001b[0;36m50\u001b[0m\u001b[0;34m\u001b[0m\u001b[0;34m\u001b[0m\u001b[0m\n\u001b[1;32m     24\u001b[0m \u001b[0;34m\u001b[0m\u001b[0m\n",
      "\u001b[0;31mKeyError\u001b[0m: 'gb'"
     ]
    },
    {
     "data": {
      "image/png": "[encoded data removed]",
      "text/plain": [
       "<Figure size 720x2160 with 12 Axes>"
      ]
     },
     "metadata": {
      "needs_background": "light"
     },
     "output_type": "display_data"
    }
   ],
   "source": [
    "#plot histograms\n",
    "fig, axes = plt.subplots(6,2,figsize=(10,30),sharex=False,sharey=False,squeeze=False)\n",
    "\n",
    "row = 0\n",
    "\n",
    "for plot_num,plot_name in enumerate(\n",
    "    [\n",
    "        'stride',\n",
    "        'algorithm',\n",
    "        'pred_iteration',\n",
    "        'affs_iteration',\n",
    "        'gb',\n",
    "        'gt_type',\n",
    "        'EA',\n",
    "        'normalize_preds',\n",
    "        'MR',\n",
    "        'net_size',\n",
    "        'nvi_sum',\n",
    "        'nid'\n",
    "    ]):\n",
    "    \n",
    "    data = [x[plot_name] for x in results_to_plot]\n",
    "    nbins = 50\n",
    "    \n",
    "    axes[row][plot_num % 2].hist(data,bins=nbins)\n",
    "    axes[row][plot_num % 2].set_title(plot_name)\n",
    "    axes[row][plot_num % 2].tick_params(axis='x', rotation=85)\n",
    "    \n",
    "    if plot_num % 2 == 1:\n",
    "        row += 1\n",
    "        \n",
    "plt.tight_layout()"
   ]
  },
  {
   "cell_type": "code",
   "execution_count": null,
   "id": "230dccb4",
   "metadata": {},
   "outputs": [],
   "source": []
  },
  {
   "cell_type": "code",
   "execution_count": null,
   "id": "79c3047c",
   "metadata": {},
   "outputs": [],
   "source": []
  }
 ],
 "metadata": {
  "kernelspec": {
   "display_name": "Python 3 (ipykernel)",
   "language": "python",
   "name": "python3"
  },
  "language_info": {
   "codemirror_mode": {
    "name": "ipython",
    "version": 3
   },
   "file_extension": ".py",
   "mimetype": "text/x-python",
   "name": "python",
   "nbconvert_exporter": "python",
   "pygments_lexer": "ipython3",
   "version": "3.9.7"
  }
 },
 "nbformat": 4,
 "nbformat_minor": 5
}
