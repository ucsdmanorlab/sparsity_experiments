{
 "cells": [
  {
   "cell_type": "code",
   "execution_count": null,
   "id": "0562687b",
   "metadata": {},
   "outputs": [],
   "source": [
    "import json\n",
    "import matplotlib.pyplot as plt\n",
    "import numpy as np\n",
    "import os\n",
    "import glob\n",
    "\n",
    "from multiprocessing import Pool\n",
    "\n",
    "%matplotlib inline"
   ]
  },
  {
   "cell_type": "code",
   "execution_count": null,
   "id": "5ded114d",
   "metadata": {},
   "outputs": [],
   "source": [
    "files = glob.glob(\"/scratch/04101/vvenu/SPARSE_TEST/voljo/grid_vals/grid*/*\")"
   ]
  },
  {
   "cell_type": "code",
   "execution_count": null,
   "id": "7f9bfce7",
   "metadata": {},
   "outputs": [],
   "source": [
    "len(files)"
   ]
  },
  {
   "cell_type": "code",
   "execution_count": null,
   "id": "0450891b",
   "metadata": {},
   "outputs": [],
   "source": [
    "def read_json(file):\n",
    "    \n",
    "    index = os.path.basename(file).split(\".\")[0]\n",
    "    \n",
    "    with open(file,\"r\") as f:\n",
    "        try:\n",
    "            result = json.load(f)\n",
    "        except:\n",
    "            result = None\n",
    "    \n",
    "    return result"
   ]
  },
  {
   "cell_type": "code",
   "execution_count": null,
   "id": "72f6ddd5",
   "metadata": {},
   "outputs": [],
   "source": [
    "def read_all(files):\n",
    "    \n",
    "    results = []\n",
    "    \n",
    "    with Pool() as pool:\n",
    "        \n",
    "        for i,result in enumerate(pool.imap_unordered(read_json,files)):\n",
    "            if i % 100000 == 0:\n",
    "                print(i)\n",
    "            results.append(result)\n",
    "        \n",
    "    return results"
   ]
  },
  {
   "cell_type": "code",
   "execution_count": null,
   "id": "736de733",
   "metadata": {},
   "outputs": [],
   "source": [
    "tets = read_json(files[-1])"
   ]
  },
  {
   "cell_type": "code",
   "execution_count": null,
   "id": "9d5adb72",
   "metadata": {},
   "outputs": [],
   "source": [
    "tets"
   ]
  },
  {
   "cell_type": "code",
   "execution_count": null,
   "id": "687aed4b",
   "metadata": {
    "scrolled": false
   },
   "outputs": [],
   "source": [
    "results = read_all(files)"
   ]
  },
  {
   "cell_type": "code",
   "execution_count": null,
   "id": "3b6dd4af",
   "metadata": {},
   "outputs": [],
   "source": [
    "#convert to plottable values\n",
    "for x in results:\n",
    "    \n",
    "#     if x is None: \n",
    "#         results.remove(x)\n",
    "#         continue\n",
    "    \n",
    "    for item in x:\n",
    "    \n",
    "        if x[item] == None: x[item] = 0\n",
    "        if x[item] == False: x[item] = 0\n",
    "        if x[item] == True: x[item] = 1\n",
    "        if type(x[item]) == list: x[item] = str(x[item])\n",
    "        \n",
    "        if type(x[item]) == dict:\n",
    "            for it in x[item]:\n",
    "      \n",
    "                if x[item][it] == None: x[item][it] = 0\n",
    "                if x[item][it] == False: x[item][it] = 0\n",
    "                if x[item][it] == True: x[item][it] = 1\n",
    "                if type(x[item][it]) == list: x[item][it] = str(x[item[it]])"
   ]
  },
  {
   "cell_type": "code",
   "execution_count": null,
   "id": "4f12d971",
   "metadata": {},
   "outputs": [],
   "source": [
    "best_results = [x for x in results if (False not in [x['best'][y] < x['frags'][y] for y in ['voi_sum','nvi_sum','nid']])] "
   ]
  },
  {
   "cell_type": "code",
   "execution_count": null,
   "id": "74a967e8",
   "metadata": {},
   "outputs": [],
   "source": [
    "len(best_results)"
   ]
  },
  {
   "cell_type": "code",
   "execution_count": null,
   "id": "8858843b",
   "metadata": {},
   "outputs": [],
   "source": [
    "best_results = results"
   ]
  },
  {
   "cell_type": "code",
   "execution_count": null,
   "id": "86ea1141",
   "metadata": {},
   "outputs": [],
   "source": [
    "for x in best_results:\n",
    "    for y in x['best']:\n",
    "        x[y] = x['best'][y]\n",
    "    del x['best']"
   ]
  },
  {
   "cell_type": "code",
   "execution_count": null,
   "id": "2ca67781",
   "metadata": {},
   "outputs": [],
   "source": [
    "for x in best_results:\n",
    "    del x['frags']"
   ]
  },
  {
   "cell_type": "code",
   "execution_count": null,
   "id": "521a064f",
   "metadata": {
    "scrolled": false
   },
   "outputs": [],
   "source": [
    "best_results[0]"
   ]
  },
  {
   "cell_type": "code",
   "execution_count": null,
   "id": "5dd0ceb9",
   "metadata": {},
   "outputs": [],
   "source": [
    "plt.hist([x['nvi_sum'] for x in best_results], bins=100);"
   ]
  },
  {
   "cell_type": "code",
   "execution_count": null,
   "id": "ec71498d",
   "metadata": {},
   "outputs": [],
   "source": [
    "best_results = sorted(best_results, key=lambda x: x[\"nvi_sum\"])"
   ]
  },
  {
   "cell_type": "code",
   "execution_count": null,
   "id": "a63f5531",
   "metadata": {
    "scrolled": false
   },
   "outputs": [],
   "source": [
    "best_results[0]"
   ]
  },
  {
   "cell_type": "code",
   "execution_count": null,
   "id": "fa466cab",
   "metadata": {},
   "outputs": [],
   "source": [
    "to_avg = [\n",
    " 'rand_split',\n",
    " 'rand_merge',\n",
    " 'voi_split',\n",
    " 'voi_merge',\n",
    " 'nvi_split',\n",
    " 'nvi_merge',\n",
    " 'nid',\n",
    " 'merge_threshold',\n",
    " 'voi_sum',\n",
    " 'nvi_sum']"
   ]
  },
  {
   "cell_type": "code",
   "execution_count": null,
   "id": "d33593ff",
   "metadata": {},
   "outputs": [],
   "source": [
    "not_to_avg = [\n",
    " 'roi',\n",
    " 'raw_file',\n",
    " 'labels_dataset',\n",
    " 'labels_mask',\n",
    " 'pred_file',\n",
    " 'pred_dataset',\n",
    " 'downsampling',\n",
    " 'denoising',\n",
    " 'normalize_preds',\n",
    " 'background_mask',\n",
    " 'min_seed_distance',\n",
    " 'merge_function',\n",
    " 'pred_iteration',\n",
    " 'affs_iteration',\n",
    " 'sigma',\n",
    " 'gb',\n",
    " 'gt_type',\n",
    " 'EA',\n",
    " 'lite',\n",
    " 'LR']\n",
    "# not_to_avg = [\n",
    "#  'raw_file',\n",
    "#  'labels_dataset',\n",
    "#  'labels_mask',\n",
    "#  'pred_file',\n",
    "#  'pred_dataset',\n",
    "#  'roi',\n",
    "#  'downsampling',\n",
    "#  'denoising',\n",
    "#  'normalize_preds',\n",
    "#  'stride',\n",
    "#  'algorithm']"
   ]
  },
  {
   "cell_type": "code",
   "execution_count": null,
   "id": "6e1c9e5d",
   "metadata": {},
   "outputs": [],
   "source": [
    "for x in best_results:\n",
    "    x['pred_iteration'] = int(x['pred_dataset'].split('_')[-1])\n",
    "    x['affs_iteration'] = int(x['pred_dataset'].split('_')[-5])\n",
    "    \n",
    "    x['sigma'] = x['pred_file'].split('/')[-4]\n",
    "    \n",
    "    if '0gb' in x['pred_file']:\n",
    "        x['gb'] = 0\n",
    "    if '1gb' in x['pred_file']:\n",
    "        x['gb'] = 1\n",
    "    if '2gb' in x['pred_file']:\n",
    "        x['gb'] = 2\n",
    "    \n",
    "    if 'arlo' in x['pred_file']:\n",
    "        x['gt_type'] = \"arlo\"\n",
    "    elif 'jan' in x['pred_file']:\n",
    "        x['gt_type'] = \"jan\"\n",
    "    else: x['gt_type'] = \"voronoi\"\n",
    "        \n",
    "    x[\"EA\"] = \"no\" if \"noEA\" in x['pred_file'] else \"yes\"\n",
    "    x[\"lite\"] = \"yes\" if \"lite\" in x['pred_file'] else \"no\"\n",
    "    x[\"LR\"] = \"yes\" if \"LR\" in x['pred_file'] else \"no\""
   ]
  },
  {
   "cell_type": "code",
   "execution_count": null,
   "id": "569d6ad6",
   "metadata": {},
   "outputs": [],
   "source": [
    "#grouping across ROIs\n",
    "all_rois = list(set(x['roi'] for x in best_results))\n",
    "print(all_rois)\n",
    "\n",
    "#results by roi\n",
    "results_by_roi = {k:[x for x in best_results if x['roi'] == k] for k in all_rois}\n",
    "print(list(zip(range(len(results_by_roi)),[len(x) for x in results_by_roi.values()])))"
   ]
  },
  {
   "cell_type": "code",
   "execution_count": null,
   "id": "4ceff712",
   "metadata": {},
   "outputs": [],
   "source": [
    "#find intersection of all arg combos among all rois\n",
    "intersection = []\n",
    "for roi in results_by_roi:\n",
    "    intersection.append(\n",
    "        [''.join([str(result[x]) for x in not_to_avg[1:]]) for result in results_by_roi[roi]]\n",
    "    )\n",
    "    \n",
    "intersection = set.intersection(*map(set,intersection))\n",
    "\n",
    "print(len(intersection))"
   ]
  },
  {
   "cell_type": "code",
   "execution_count": null,
   "id": "458f598f",
   "metadata": {},
   "outputs": [],
   "source": [
    "#filter results_by_roi using intersection\n",
    "results_by_roi = {k:[x for x in results_by_roi[k] if ''.join([str(x[j]) for j in not_to_avg[1:]]) in intersection] for k in all_rois}\n",
    "print(list(zip(range(len(results_by_roi)),[len(x) for x in results_by_roi.values()])))"
   ]
  },
  {
   "cell_type": "code",
   "execution_count": null,
   "id": "9dee7994",
   "metadata": {},
   "outputs": [],
   "source": [
    "#plot metric for all rois\n",
    "metric = 'nvi_sum'\n",
    "rois_to_plot = all_rois\n",
    "\n",
    "fig, axes = plt.subplots(1,len(rois_to_plot),figsize=(12,4),sharex=False,sharey=False,squeeze=False)\n",
    "\n",
    "for i,roi in enumerate(rois_to_plot):\n",
    "    \n",
    "    axes[0][i].hist([x[metric] for x in results_by_roi[roi]],bins=100)\n",
    "    axes[0][i].set_title(f\"roi {i}, {metric}\")\n",
    "    \n",
    "plt.tight_layout()"
   ]
  },
  {
   "cell_type": "code",
   "execution_count": null,
   "id": "7258597a",
   "metadata": {},
   "outputs": [],
   "source": [
    "#AVERAGE across rois.\n",
    "results_roi_avg = []\n",
    "\n",
    "for i,result in enumerate(results_by_roi[all_rois[0]]):\n",
    "\n",
    "    averaged = {}\n",
    "\n",
    "    for key in not_to_avg[1:]:\n",
    "        averaged[key] = result[key]\n",
    "\n",
    "    #good thing order is preserved\n",
    "    parts = [results_by_roi[x][i] for x in all_rois]\n",
    "\n",
    "    #print(len(parts))\n",
    "    assert len(parts) == len(all_rois)\n",
    "\n",
    "    for key in to_avg:\n",
    "        vals = [x[key] for x in parts]\n",
    "        averaged[key] = [np.mean(vals),np.std(vals)]\n",
    "\n",
    "    results_roi_avg.append(averaged)"
   ]
  },
  {
   "cell_type": "code",
   "execution_count": null,
   "id": "859e4d84",
   "metadata": {},
   "outputs": [],
   "source": [
    "results_roi_avg = sorted(results_roi_avg, key=lambda x: x[\"nvi_sum\"])#[0] - x[\"nvi_sum\"][1])"
   ]
  },
  {
   "cell_type": "code",
   "execution_count": null,
   "id": "64f6123a",
   "metadata": {},
   "outputs": [],
   "source": [
    "#plot a selection\n",
    "results_to_plot = [x for x in results_roi_avg \\\n",
    "                    #if x['background_mask']==0\n",
    "                    if x['nvi_sum'][0] < 0.3 \\\n",
    "                    and x['nid'][0] < 0.2\n",
    "                    #and 'sigma' not in x['sigma']\n",
    "                  ]\n",
    "len(results_to_plot)"
   ]
  },
  {
   "cell_type": "code",
   "execution_count": null,
   "id": "dddc2718",
   "metadata": {
    "scrolled": false
   },
   "outputs": [],
   "source": [
    "results_to_plot[-1]"
   ]
  },
  {
   "cell_type": "code",
   "execution_count": null,
   "id": "a47dc71c",
   "metadata": {
    "scrolled": false
   },
   "outputs": [],
   "source": [
    "#plot histograms\n",
    "fig, axes = plt.subplots(7,2,figsize=(8,28),sharex=False,sharey=False,squeeze=False)\n",
    "\n",
    "row = 0\n",
    "\n",
    "for plot_num,plot_name in enumerate(\n",
    "    [\n",
    "        'normalize_preds',\n",
    "        'background_mask',\n",
    "        'min_seed_distance',\n",
    "        'merge_function',\n",
    "        'pred_iteration',\n",
    "        'affs_iteration',\n",
    "        'sigma',\n",
    "        'gb',\n",
    "        'gt_type',\n",
    "        'EA',\n",
    "        'lite',\n",
    "        'LR',\n",
    "        'nvi_sum',\n",
    "        'nid'\n",
    "    ]):\n",
    "    \n",
    "    if plot_name in to_avg:\n",
    "        data = [x[plot_name][0]  for x in results_to_plot]\n",
    "        nbins = 100\n",
    "    else:\n",
    "        data = [x[plot_name] for x in results_to_plot]\n",
    "        nbins = 20\n",
    "    \n",
    "    axes[row][plot_num % 2].hist(data,bins=nbins)\n",
    "    axes[row][plot_num % 2].set_title(plot_name)\n",
    "    axes[row][plot_num % 2].tick_params(axis='x', rotation=40)\n",
    "    \n",
    "    if plot_num % 2 == 1:\n",
    "        row += 1\n",
    "        \n",
    "plt.tight_layout()"
   ]
  },
  {
   "cell_type": "code",
   "execution_count": null,
   "id": "eeecb583",
   "metadata": {},
   "outputs": [],
   "source": []
  }
 ],
 "metadata": {
  "kernelspec": {
   "display_name": "lsd",
   "language": "python",
   "name": "lsd"
  },
  "language_info": {
   "codemirror_mode": {
    "name": "ipython",
    "version": 3
   },
   "file_extension": ".py",
   "mimetype": "text/x-python",
   "name": "python",
   "nbconvert_exporter": "python",
   "pygments_lexer": "ipython3",
   "version": "3.9.16"
  }
 },
 "nbformat": 4,
 "nbformat_minor": 5
}
